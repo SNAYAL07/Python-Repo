{
 "cells": [
  {
   "cell_type": "code",
   "execution_count": null,
   "id": "b4f23f52",
   "metadata": {},
   "outputs": [],
   "source": [
    "price=int(input(\"Please give the price\"))\n",
    "if price<60:\n",
    "    print(\"dont buy\")\n",
    "elif price>=60 and price<=80:\n",
    "    range=int(input(\"Select range \"))\n",
    "    if range<100:\n",
    "        print(\"choose another range\")\n",
    "    else:\n",
    "        warranty=int(input(\"Enter warranty \"))\n",
    "        if warranty<3:\n",
    "            print(\"dont buy\")\n",
    "        else:\n",
    "            print(\"buy\")\n",
    "else:\n",
    "    range1=int(input(\"Gib range\"))\n",
    "    if range1<100:\n",
    "        warranty=int(input(\"Gib warranty \"))\n",
    "        if warranty>3:\n",
    "            print(\"buy\")\n",
    "        else:\n",
    "            print(\"dont buy\")\n",
    "    else:\n",
    "        print(\"dont buy\")"
   ]
  },
  {
   "cell_type": "code",
   "execution_count": null,
   "id": "f8282ebe",
   "metadata": {},
   "outputs": [],
   "source": [
    "import psutil\n",
    "print(psutil.cpu_percent(5))"
   ]
  },
  {
   "cell_type": "code",
   "execution_count": null,
   "id": "cf30501e",
   "metadata": {},
   "outputs": [],
   "source": []
  }
 ],
 "metadata": {
  "kernelspec": {
   "display_name": "Python 3 (ipykernel)",
   "language": "python",
   "name": "python3"
  },
  "language_info": {
   "codemirror_mode": {
    "name": "ipython",
    "version": 3
   },
   "file_extension": ".py",
   "mimetype": "text/x-python",
   "name": "python",
   "nbconvert_exporter": "python",
   "pygments_lexer": "ipython3",
   "version": "3.10.3"
  }
 },
 "nbformat": 4,
 "nbformat_minor": 5
}
